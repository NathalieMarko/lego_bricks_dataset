{
 "cells": [
  {
   "cell_type": "markdown",
   "id": "383eaf43-2d4c-4d87-8606-a3a9326b686f",
   "metadata": {},
   "source": [
    "# LEGO BRICKS DATASET PREPARATION\n",
    "\n",
    "Sourse: https://zenodo.org/records/10731976\n",
    "\n",
    "This dataset introduces a simple, low-resolution (640x640) object detection dataset for manufacturing, specifically focused on identifying minor surface defects in plastic Lego bricks. It is designed to address the need for accessible, less complex datasets, that can help small enterprises to adopt object detection for quality control. \n",
    "\n",
    "The dataset contains about 1,500 annotated images, with two quality labels (defect/no defect).\n",
    "Originally it was tested using YOLOv5 to demonstrate the feasibility of accurate defect detection with limited, low-resolution data.\n",
    "\n",
    "I adjusted it to my personal scope: \n",
    "**Object detection for surface defect classification images of plastic bricks.**"
   ]
  },
  {
   "cell_type": "markdown",
   "id": "37b27fed-78e0-4d8a-9365-6062edc6cbbb",
   "metadata": {},
   "source": [
    "The core problem:\n",
    "- Each image can have multiple bricks.\n",
    "- Some bricks in the image may be defective, some may not.\n",
    "\n",
    "I choose to classify the whole image as \"defect\" or \"no_defect\".\n",
    "\n",
    "My Approache:\n",
    "- Image is 'defect' if ANY brick is defected.\n",
    "- If all objects are non-defective, label as 'no_defect'.\n"
   ]
  },
  {
   "cell_type": "markdown",
   "id": "3df66a35-4cbe-4e02-a9d4-4694ca31bf55",
   "metadata": {},
   "source": [
    "#### we need to achieve: train/defect/, train/no_defect/, valid/defect/, valid/no_defect/\n",
    "    \n",
    "Note: the old images/ and labels/ folders will be deleted."
   ]
  },
  {
   "cell_type": "code",
   "execution_count": 18,
   "id": "8ecb703a-a269-4055-ad73-711a48c927bd",
   "metadata": {},
   "outputs": [],
   "source": [
    "import os\n",
    "import shutil"
   ]
  },
  {
   "cell_type": "code",
   "execution_count": 20,
   "id": "5f9e25a4-4ee9-46be-8ab7-4068610ca7c1",
   "metadata": {},
   "outputs": [],
   "source": [
    "\n",
    "def get_class_from_label(label_path):\n",
    "    \"\"\"\n",
    "    Reads a YOLO label file and determines the class for the image.\n",
    "    If any line in the label file starts with '0', it's a 'defect'.\n",
    "    Otherwise, it's 'no_defect'.\n",
    "    \"\"\"\n",
    "    with open(label_path, 'r') as f:\n",
    "        for line in f:\n",
    "            if line.strip() and line.strip().split()[0] == '0':\n",
    "                return 'defect'\n",
    "    return 'no_defect'\n",
    "\n",
    "def organize(split):\n",
    "    \"\"\"\n",
    "    For a given split ('train' or 'valid'),\n",
    "    - Reads each image in images/,\n",
    "    - Determines its class from the corresponding label file in labels/,\n",
    "    - Copies the image to the appropriate class folder (defect/no_defect).\n",
    "    \"\"\"\n",
    "    images_dir = os.path.join(split, 'images')\n",
    "    labels_dir = os.path.join(split, 'labels')\n",
    "    for img_name in os.listdir(images_dir):\n",
    "        # Only process image files\n",
    "        if not img_name.lower().endswith(('.jpg', '.jpeg', '.png')):\n",
    "            continue\n",
    "        label_name = os.path.splitext(img_name)[0] + '.txt'\n",
    "        label_path = os.path.join(labels_dir, label_name)\n",
    "        if not os.path.exists(label_path):\n",
    "            print(f\"Warning: No label for {img_name}, skipping.\")\n",
    "            continue\n",
    "        class_name = get_class_from_label(label_path)\n",
    "        dest_dir = os.path.join(split, class_name)\n",
    "        os.makedirs(dest_dir, exist_ok=True)\n",
    "        shutil.copy2(os.path.join(images_dir, img_name), os.path.join(dest_dir, img_name))\n"
   ]
  },
  {
   "cell_type": "code",
   "execution_count": 22,
   "id": "a25580d0-3191-4894-aabc-e2db81e72f1a",
   "metadata": {},
   "outputs": [
    {
     "name": "stdout",
     "output_type": "stream",
     "text": [
      "Done! The data is now organized for classification.\n",
      "Old images/ and labels/ folders removed.\n"
     ]
    }
   ],
   "source": [
    "# Organize both train and valid splits\n",
    "\n",
    "for split in ['train', 'valid', 'test']:\n",
    "    organize(split)\n",
    "print(\"Done! The data is now organized for classification.\")\n",
    "\n",
    "for split in ['train', 'valid', 'test']:\n",
    "    for sub in ['images', 'labels']:\n",
    "        shutil.rmtree(f'{split}/{sub}', ignore_errors=True)\n",
    "print(\"Old images/ and labels/ folders removed.\")"
   ]
  },
  {
   "cell_type": "code",
   "execution_count": null,
   "id": "a8e51b75-fa3b-45aa-8892-4beca6aa1ca5",
   "metadata": {},
   "outputs": [],
   "source": []
  }
 ],
 "metadata": {
  "kernelspec": {
   "display_name": "Python [conda env:base] *",
   "language": "python",
   "name": "conda-base-py"
  },
  "language_info": {
   "codemirror_mode": {
    "name": "ipython",
    "version": 3
   },
   "file_extension": ".py",
   "mimetype": "text/x-python",
   "name": "python",
   "nbconvert_exporter": "python",
   "pygments_lexer": "ipython3",
   "version": "3.12.2"
  }
 },
 "nbformat": 4,
 "nbformat_minor": 5
}
