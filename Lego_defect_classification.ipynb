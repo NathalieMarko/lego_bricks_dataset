{
 "cells": [
  {
   "cell_type": "markdown",
   "id": "1700da0a-01b1-43ea-b1cf-931c404ce386",
   "metadata": {},
   "source": [
    "# Lego defect detection\n",
    "### This notebook trains and evaluates a ResNet18 pretrained classifier on Lego brick images organized into:\n",
    "    - 'defect' and 'no_defect' folders for both train and valid splits.\n",
    "For computational constrains, images will be resized to (224, 224) and no augmentation techniques will be applied."
   ]
  },
  {
   "cell_type": "code",
   "execution_count": 17,
   "id": "2ebd1f9f-7212-4c4c-8e0c-ac1eec172f55",
   "metadata": {},
   "outputs": [],
   "source": [
    "# import libraries\n",
    "import numpy as np\n",
    "import os\n",
    "import shutil\n",
    "import random\n",
    "import matplotlib.pyplot as plt\n",
    "import torch\n",
    "import torch.nn as nn\n",
    "import torch.optim as optim\n",
    "from torchvision import datasets, transforms, models\n",
    "from torchvision.models import resnet18, ResNet18_Weights\n",
    "from torch.utils.data import DataLoader\n",
    "from sklearn.metrics import precision_score, confusion_matrix, classification_report"
   ]
  },
  {
   "cell_type": "code",
   "execution_count": 3,
   "id": "ef7ba8e9-25a8-4312-a874-5ffc4488b6b3",
   "metadata": {},
   "outputs": [],
   "source": [
    "# 1. Define parameters\n",
    "data_dir = './'\n",
    "train_dir = os.path.join(data_dir, 'train') \n",
    "valid_dir = os.path.join(data_dir, 'valid')\n",
    "num_classes = 2  # 'defect' and 'no_defect'\n",
    "batch_size = 16\n",
    "num_epochs = 10\n",
    "learning_rate = 0.001\n",
    "\n",
    "# Use GPU if available, otherwise use CPU\n",
    "device = torch.device('cuda' if torch.cuda.is_available() else 'cpu')\n",
    "\n",
    "# Set a fixed random seed for reproducibility\n",
    "seed = 42\n",
    "random.seed(seed)\n",
    "np.random.seed(seed)\n",
    "torch.manual_seed(seed)\n",
    "torch.cuda.manual_seed(seed)\n",
    "torch.backends.cudnn.deterministic = True\n",
    "torch.backends.cudnn.benchmark = False"
   ]
  },
  {
   "cell_type": "code",
   "execution_count": 4,
   "id": "a79e0679-014b-4f08-bc9f-d70666136617",
   "metadata": {},
   "outputs": [
    {
     "name": "stdout",
     "output_type": "stream",
     "text": [
      "Classes: ['defect', 'no_defect']\n",
      "{'defect': 0, 'no_defect': 1}\n"
     ]
    }
   ],
   "source": [
    "# 2. Data transforms\n",
    "# Images are resized to 224x224 and converted to tensors\n",
    "transform = transforms.Compose([\n",
    "    transforms.transforms.Resize((224, 224)),\n",
    "    transforms.ToTensor(),\n",
    "])\n",
    "\n",
    "# 3. Define datasets and loaders\n",
    "# ImageFolder expects data in class subfolders (defect/no_defect)\n",
    "train_dataset = datasets.ImageFolder(train_dir, transform=transform)\n",
    "valid_dataset = datasets.ImageFolder(valid_dir, transform=transform)\n",
    "train_loader = DataLoader(train_dataset, batch_size=batch_size, shuffle=True)\n",
    "valid_loader = DataLoader(valid_dataset, batch_size=batch_size, shuffle=False)\n",
    "\n",
    "print(f\"Classes: {train_dataset.classes}\")\n",
    "print(train_dataset.class_to_idx)"
   ]
  },
  {
   "cell_type": "code",
   "execution_count": 8,
   "id": "1193ad8f-96f4-4b5c-b396-483da3b8fb51",
   "metadata": {},
   "outputs": [],
   "source": [
    "# 4. Load pretrained ResNet and freeze backbone\n",
    "# We use a ResNet18 pretrained on ImageNet\n",
    "\n",
    "model = models.resnet18(weights=ResNet18_Weights.DEFAULT)\n",
    "\n",
    "# Freeze all layers so only the final layer is trained\n",
    "for param in model.parameters():\n",
    "    param.requires_grad = False\n",
    "\n",
    "# Replace the final fully connected layer to match our number of classes\n",
    "model.fc = nn.Linear(model.fc.in_features, num_classes)\n",
    "model = model.to(device)"
   ]
  },
  {
   "cell_type": "code",
   "execution_count": 10,
   "id": "92a6c550-4c56-422a-a2a4-fe7a67f3e446",
   "metadata": {},
   "outputs": [],
   "source": [
    "# 5. Loss and optimizer\n",
    "criterion = nn.CrossEntropyLoss()\n",
    "optimizer = optim.Adam(model.fc.parameters(), lr=learning_rate)"
   ]
  },
  {
   "cell_type": "code",
   "execution_count": 12,
   "id": "df953e27-ead8-4a39-a566-94afadb6d086",
   "metadata": {},
   "outputs": [
    {
     "name": "stdout",
     "output_type": "stream",
     "text": [
      "Starting training...\n",
      "Epoch 1/8, loss: 0.5420, Val_loss: 0.5284\n",
      "Epoch 2/8, loss: 0.4544, Val_loss: 0.5060\n",
      "Epoch 3/8, loss: 0.4254, Val_loss: 0.4809\n",
      "Epoch 4/8, loss: 0.3907, Val_loss: 0.4676\n",
      "Epoch 5/8, loss: 0.3982, Val_loss: 0.4465\n",
      "Epoch 6/8, loss: 0.3774, Val_loss: 0.4139\n",
      "Epoch 7/8, loss: 0.3444, Val_loss: 0.4061\n",
      "Epoch 8/8, loss: 0.3211, Val_loss: 0.3964\n"
     ]
    }
   ],
   "source": [
    "# 6. Training loop\n",
    "print(\"Starting training...\")\n",
    "train_losses = []\n",
    "valid_losses = []\n",
    "\n",
    "num_epochs = 8\n",
    "\n",
    "for epoch in range(num_epochs):\n",
    "    model.train()\n",
    "    running_loss = 0.0\n",
    "    for images, labels in train_loader:\n",
    "        images, labels = images.to(device), labels.to(device)\n",
    "        optimizer.zero_grad()\n",
    "        outputs = model(images)\n",
    "        loss = criterion(outputs, labels)\n",
    "        loss.backward()\n",
    "        optimizer.step()\n",
    "        running_loss += loss.item() * images.size(0)\n",
    "    epoch_loss = running_loss / len(train_loader.dataset)\n",
    "    train_losses.append(epoch_loss)\n",
    "\n",
    "    # --- Validation loss ---\n",
    "    model.eval()\n",
    "    val_running_loss = 0.0\n",
    "    with torch.no_grad():\n",
    "        for images, labels in valid_loader:\n",
    "            images, labels = images.to(device), labels.to(device)\n",
    "            outputs = model(images)\n",
    "            val_loss = criterion(outputs, labels)\n",
    "            val_running_loss += val_loss.item() * images.size(0)\n",
    "    val_epoch_loss = val_running_loss / len(valid_loader.dataset)\n",
    "    valid_losses.append(val_epoch_loss)\n",
    "\n",
    "    print(f\"Epoch {epoch+1}/{num_epochs}, loss: {epoch_loss:.4f}, Val_loss: {val_epoch_loss:.4f}\")\n",
    "\n"
   ]
  },
  {
   "cell_type": "code",
   "execution_count": 13,
   "id": "25f4d74e-40fe-4f6c-aacf-79b5f8888b0f",
   "metadata": {},
   "outputs": [
    {
     "data": {
      "image/png": "[encoded data removed]",
      "text/plain": [
       "<Figure size 500x300 with 1 Axes>"
      ]
     },
     "metadata": {},
     "output_type": "display_data"
    }
   ],
   "source": [
    "# Plot the loss curves\n",
    "plt.figure(figsize=(5,3))\n",
    "plt.plot(range(1, num_epochs+1), train_losses, label='Train Loss')\n",
    "plt.plot(range(1, num_epochs+1), valid_losses, label='Validation Loss')\n",
    "plt.xlabel('Epoch')\n",
    "plt.ylabel('Loss')\n",
    "plt.title('Train vs Validation Loss')\n",
    "plt.legend()\n",
    "plt.show()"
   ]
  },
  {
   "cell_type": "code",
   "execution_count": 14,
   "id": "742e199c-866e-4632-a2ab-0d5c14ea9557",
   "metadata": {},
   "outputs": [
    {
     "name": "stdout",
     "output_type": "stream",
     "text": [
      "Validation Precision (defect class): 0.8490\n",
      "Confusion Matrix:\n",
      "[[208   8]\n",
      " [ 37  47]]\n"
     ]
    }
   ],
   "source": [
    "# 7. Evaluation\n",
    "# We evaluate the model using precision (for the 'defect' class)\n",
    "model.eval()\n",
    "all_labels = []\n",
    "all_preds = []\n",
    "with torch.no_grad():\n",
    "    for images, labels in valid_loader:\n",
    "        images, labels = images.to(device), labels.to(device)\n",
    "        outputs = model(images)\n",
    "        _, predicted = torch.max(outputs, 1)\n",
    "        all_labels.extend(labels.cpu().numpy())\n",
    "        all_preds.extend(predicted.cpu().numpy())\n",
    "\n",
    "# Compute precision for the 'defect' class (in our case is class 0)\n",
    "precision = precision_score(all_labels, all_preds, pos_label=0, zero_division=0)\n",
    "print(f\"Validation Precision (defect class): {precision:.4f}\")\n",
    "\n",
    "# Compute and display the confusion matrix\n",
    "cm = confusion_matrix(all_labels, all_preds)\n",
    "print(\"Confusion Matrix:\")\n",
    "print(cm)\n"
   ]
  },
  {
   "cell_type": "code",
   "execution_count": 15,
   "id": "2cceda06-a079-48db-9c7b-7ef72f2d257b",
   "metadata": {},
   "outputs": [
    {
     "name": "stdout",
     "output_type": "stream",
     "text": [
      "              precision    recall  f1-score   support\n",
      "\n",
      "           0       0.85      0.96      0.90       216\n",
      "           1       0.85      0.56      0.68        84\n",
      "\n",
      "    accuracy                           0.85       300\n",
      "   macro avg       0.85      0.76      0.79       300\n",
      "weighted avg       0.85      0.85      0.84       300\n",
      "\n"
     ]
    }
   ],
   "source": [
    "class_report = classification_report(all_labels, all_preds)\n",
    "print(class_report)"
   ]
  },
  {
   "cell_type": "markdown",
   "id": "d9fdb11b-ef77-4a40-baea-58c9343ddd21",
   "metadata": {},
   "source": [
    "# The more data, the better performance"
   ]
  },
  {
   "cell_type": "code",
   "execution_count": 32,
   "id": "48b30a32-db3a-4f68-a510-89ff00c11982",
   "metadata": {},
   "outputs": [],
   "source": [
    "# Create new full_train folders\n",
    "os.makedirs('full_train/defect', exist_ok=True)\n",
    "os.makedirs('full_train/no_defect', exist_ok=True)\n",
    "\n",
    "# Copy train images\n",
    "for cls in ['defect', 'no_defect']:\n",
    "    for fname in os.listdir(f'train/{cls}'):\n",
    "        shutil.copy2(f'train/{cls}/{fname}', f'full_train/{cls}/{fname}')\n",
    "# Copy valid images\n",
    "for cls in ['defect', 'no_defect']:\n",
    "    for fname in os.listdir(f'valid/{cls}'):\n",
    "        shutil.copy2(f'valid/{cls}/{fname}', f'full_train/{cls}/{fname}')\n",
    "\n",
    "# Create dataset and loader for full_train\n",
    "full_train_dataset = datasets.ImageFolder('full_train', transform=transform)\n",
    "full_train_loader = DataLoader(full_train_dataset, batch_size=batch_size, shuffle=True)\n",
    "\n",
    "# Re-initialize the model (optional, for a fresh start)\n",
    "model = models.resnet18(weights=ResNet18_Weights.DEFAULT)\n",
    "for param in model.parameters():\n",
    "    param.requires_grad = False\n",
    "model.fc = nn.Linear(model.fc.in_features, num_classes)\n",
    "model = model.to(device)\n",
    "\n",
    "# Use the same loss and optimizer (add class weights if you want)\n",
    "criterion = nn.CrossEntropyLoss()\n",
    "optimizer = optim.Adam(model.fc.parameters(), lr=learning_rate)\n",
    "\n",
    "# Train on full_train (no validation)\n",
    "print(\"Starting final training on all data...\")\n",
    "final_train_losses = []\n",
    "num_epochs_full = 10  # You can set this to any number\n",
    "\n",
    "for epoch in range(num_epochs_full):\n",
    "    model.train()\n",
    "    running_loss = 0.0\n",
    "    for images, labels in full_train_loader:\n",
    "        images, labels = images.to(device), labels.to(device)\n",
    "        optimizer.zero_grad()\n",
    "        outputs = model(images)\n",
    "        loss = criterion(outputs, labels)\n",
    "        loss.backward()\n",
    "        optimizer.step()\n",
    "        running_loss += loss.item() * images.size(0)\n",
    "    epoch_loss = running_loss / len(full_train_loader.dataset)\n",
    "    final_train_losses.append(epoch_loss)\n",
    "    print(f\"Epoch {epoch+1}/{num_epochs_full}, loss: {epoch_loss:.4f}\")\n",
    "\n",
    "# Save the final model\n",
    "torch.save(model.state_dict(), 'lego_resnet18_full.pth')\n",
    "print(\"Full-data-trained model weights saved as lego_resnet18_full.pth\")\n"
   ]
  },
  {
   "cell_type": "code",
   "execution_count": null,
   "id": "670782e9-c28d-4d9b-8c32-43724407c68a",
   "metadata": {},
   "outputs": [],
   "source": []
  },
  {
   "cell_type": "code",
   "execution_count": null,
   "id": "ba70e58c-12da-46b8-ab15-6a090085b3f6",
   "metadata": {},
   "outputs": [],
   "source": [
    "# save the models weights\n",
    "torch.save(model.state_dict(), 'lego_resnet18_full.pth')"
   ]
  },
  {
   "cell_type": "code",
   "execution_count": null,
   "id": "4e33a3c4-4cba-4d28-b989-4dcb76124754",
   "metadata": {},
   "outputs": [],
   "source": []
  },
  {
   "cell_type": "code",
   "execution_count": null,
   "id": "ef7eb01e-1669-4fca-bbe2-c66ea7bc0317",
   "metadata": {},
   "outputs": [],
   "source": []
  },
  {
   "cell_type": "code",
   "execution_count": null,
   "id": "091ce92c-496c-42be-8454-3001f265c673",
   "metadata": {},
   "outputs": [],
   "source": []
  },
  {
   "cell_type": "code",
   "execution_count": 38,
   "id": "9ec59860-2a02-4ca3-a2d7-00955e699f9b",
   "metadata": {},
   "outputs": [
    {
     "data": {
      "text/plain": [
       "<All keys matched successfully>"
      ]
     },
     "execution_count": 38,
     "metadata": {},
     "output_type": "execute_result"
    }
   ],
   "source": [
    "# Recreate the model architecture\n",
    "model = models.resnet18(weights=ResNet18_Weights.DEFAULT)\n",
    "for param in model.parameters():\n",
    "    param.requires_grad = False\n",
    "model.fc = nn.Linear(model.fc.in_features, num_classes)\n",
    "model = model.to(device)\n"
   ]
  },
  {
   "cell_type": "code",
   "execution_count": null,
   "id": "7dfc32e6-dae9-4287-973e-4a1a4a21b551",
   "metadata": {},
   "outputs": [],
   "source": []
  },
  {
   "cell_type": "code",
   "execution_count": null,
   "id": "5a51bd66-c3f3-4d82-aa7c-32c57207a81b",
   "metadata": {},
   "outputs": [],
   "source": [
    "# --- Test set evaluation ---\n",
    "test_dir = os.path.join(data_dir, 'test')\n",
    "test_dataset = datasets.ImageFolder(test_dir, transform=transform)\n",
    "test_loader = DataLoader(test_dataset, batch_size=batch_size, shuffle=False)\n",
    "\n",
    "# Load the saved weights\n",
    "model.load_state_dict(torch.load('lego_resnet18_full.pth', map_location=device))\n",
    "\n",
    "# Now we can run predictions on your test set\n",
    "model.eval()\n",
    "test_labels = []\n",
    "test_preds = []\n",
    "with torch.no_grad():\n",
    "    for images, labels in test_loader:\n",
    "        images, labels = images.to(device), labels.to(device)\n",
    "        outputs = model(images)\n",
    "        _, predicted = torch.max(outputs, 1)\n",
    "        test_labels.extend(labels.cpu().numpy())\n",
    "        test_preds.extend(predicted.cpu().numpy())\n",
    "\n",
    "test_precision = precision_score(test_labels, test_preds, pos_label=0, zero_division=0)\n",
    "print(f\"Test Precision (defect class): {test_precision:.4f}\")\n",
    "test_cm = confusion_matrix(test_labels, test_preds)\n",
    "print('Test Confusion Matrix:')\n",
    "print(test_cm)\n",
    "print(f\"      Predicted: no_defect   defect\")\n",
    "print(f\"Actual: no_defect    {test_cm[0,0]:5d}        {test_cm[0,1]:5d}\")\n",
    "print(f\"        defect        {test_cm[1,0]:5d}        {test_cm[1,1]:5d}\")\n",
    "\n",
    "class_report = classification_report(test_labels, test_preds, target_names=['defect', 'no_defect'])\n",
    "print(class_report)"
   ]
  },
  {
   "cell_type": "code",
   "execution_count": null,
   "id": "516ad951-1146-4888-a62d-b4089deeb9ee",
   "metadata": {},
   "outputs": [],
   "source": []
  }
 ],
 "metadata": {
  "kernelspec": {
   "display_name": "Python [conda env:base] *",
   "language": "python",
   "name": "conda-base-py"
  },
  "language_info": {
   "codemirror_mode": {
    "name": "ipython",
    "version": 3
   },
   "file_extension": ".py",
   "mimetype": "text/x-python",
   "name": "python",
   "nbconvert_exporter": "python",
   "pygments_lexer": "ipython3",
   "version": "3.12.2"
  }
 },
 "nbformat": 4,
 "nbformat_minor": 5
}
